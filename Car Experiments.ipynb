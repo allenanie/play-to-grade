{
 "cells": [
  {
   "cell_type": "markdown",
   "metadata": {},
   "source": [
    "# Reproducing Table 1 and 2\n",
    "\n",
    "This notebook contains the full runnable code to reproduce our result in Table 1 and 2.\n",
    "\n",
    "- Table 1: Car-Easy\n",
    "- Table 2: Car-Hard"
   ]
  },
  {
   "cell_type": "code",
   "execution_count": 8,
   "metadata": {},
   "outputs": [],
   "source": [
    "import math\n",
    "\n",
    "import numpy as np\n",
    "\n",
    "import gym\n",
    "from gym import spaces\n",
    "from gym.utils import seeding\n",
    "\n",
    "from tqdm import tqdm\n",
    "\n",
    "import matplotlib\n",
    "import matplotlib.pyplot as plt"
   ]
  },
  {
   "cell_type": "code",
   "execution_count": 9,
   "metadata": {},
   "outputs": [],
   "source": [
    "def flatten(regular_list):\n",
    "    flat_list = [item for sublist in regular_list for item in sublist]\n",
    "    return flat_list"
   ]
  },
  {
   "cell_type": "code",
   "execution_count": 10,
   "metadata": {},
   "outputs": [],
   "source": [
    "import numpy as np\n",
    "import scipy.stats\n",
    "\n",
    "\n",
    "def mean_confidence_interval(data, confidence=0.95):\n",
    "    a = 1.0 * np.array(data)\n",
    "    n = len(a)\n",
    "    m, se = np.mean(a), scipy.stats.sem(a)\n",
    "    h = se * scipy.stats.t.ppf((1 + confidence) / 2., n-1)\n",
    "    return m, m-h, m+h, h"
   ]
  },
  {
   "cell_type": "markdown",
   "metadata": {},
   "source": [
    "## Table 1: Car-Easy\n",
    "\n",
    "We are not fixing random seed, therefore the numbers might be different from the paper, though it does not change our overall story.\n",
    "\n",
    "For the easy environment, both HoareLSTM and Contrastive HoareLSTM can capture the dynamics of both single-direction policy and random policy."
   ]
  },
  {
   "cell_type": "code",
   "execution_count": 6,
   "metadata": {},
   "outputs": [],
   "source": [
    "from car.training import train_naive_hoare_lstm_model_inner, collect_classifier_behavior_on_traj, train_naive_sae_lstm_model, train_naive_vae_model, train_naive_gmm_model, train_naive_supervised_classifier, train_naive_hoare_lstm_model, train_naive_sae_lstm_model_inner, collect_sae_classifier_behavior_on_traj\n",
    "from car.classifiers import HoareLSTM\n",
    "from car.car_agents import Agent, RandomSingleDirectionPolicy, SingleDirectionPolicy\n",
    "from car.utils import fill_na_with_mean\n",
    "\n",
    "from car.rl_training import train_dqn, compute_perc_traj_with_bug, train_dqn_sae\n",
    "\n",
    "import torch.optim as optim\n",
    "\n",
    "from collections import deque\n",
    "from sklearn.metrics import accuracy_score, classification_report, precision_score, recall_score, precision_recall_fscore_support\n",
    "\n",
    "from car.car import CarEnv"
   ]
  },
  {
   "cell_type": "code",
   "execution_count": null,
   "metadata": {},
   "outputs": [],
   "source": [
    "for history_window in [5]:\n",
    "    \n",
    "    # MLP model\n",
    "    accuracies, recalls, precisions = [], [], []\n",
    "    \n",
    "    for _ in range(5):\n",
    "        policy = SingleDirectionPolicy()\n",
    "        test_accu, prec, recall = train_naive_supervised_classifier(policy, env, bug_env, 100, history_window=5)\n",
    "        accuracies.append(test_accu)\n",
    "        recalls.append(recall)\n",
    "        precisions.append(prec)\n",
    "        \n",
    "    accuracies = np.array(accuracies)\n",
    "    recalls = fill_na_with_mean(np.array(recalls))\n",
    "    precisions = fill_na_with_mean(np.array(precisions))\n",
    "    \n",
    "    print('MLP Model, 5 Frames, Single Direction Policy')\n",
    "    print(\"accuracy: ${:.1f} \\pm {:.1f}$\".format(accuracies.mean(axis=0)[-1] * 100, mean_confidence_interval(accuracies[:, -1])[-1] * 100))\n",
    "    print(\"precision: ${:.1f} \\pm {:.1f}$\".format(precisions.mean(axis=0)[-1] * 100, mean_confidence_interval(precisions[:, -1])[-1] * 100))\n",
    "    print(\"recall: ${:.1f} \\pm {:.1f}$\".format(recalls.mean(axis=0)[-1] * 100, mean_confidence_interval(recalls[:, -1])[-1] * 100))\n",
    "    \n",
    "    accuracies, recalls, precisions = [], [], []\n",
    "    \n",
    "    for _ in range(5):\n",
    "        policy = RandomSingleDirectionPolicy()\n",
    "        test_accu, prec, recall = train_naive_supervised_classifier(policy, env, bug_env, 100, history_window=5)\n",
    "        accuracies.append(test_accu)\n",
    "        recalls.append(recall)\n",
    "        precisions.append(prec)\n",
    "    \n",
    "    accuracies = np.array(accuracies)\n",
    "    recalls = fill_na_with_mean(np.array(recalls))\n",
    "    precisions = fill_na_with_mean(np.array(precisions))\n",
    "    \n",
    "    print('MLP Model, 5 Frames, Random Policy')\n",
    "    print(\"accuracy: ${:.1f} \\pm {:.1f}$\".format(accuracies.mean(axis=0)[-1] * 100, mean_confidence_interval(accuracies[:, -1])[-1] * 100))\n",
    "    print(\"precision: ${:.1f} \\pm {:.1f}$\".format(precisions.mean(axis=0)[-1] * 100, mean_confidence_interval(precisions[:, -1])[-1] * 100))\n",
    "    print(\"recall: ${:.1f} \\pm {:.1f}$\".format(recalls.mean(axis=0)[-1] * 100, mean_confidence_interval(recalls[:, -1])[-1] * 100))\n",
    "    \n",
    "    # GMM model\n",
    "    accuracies, recalls, precisions = [], [], []\n",
    "    \n",
    "    for _ in range(10):\n",
    "        policy = SingleDirectionPolicy()\n",
    "        test_accu, prec, recall, _ = train_naive_gmm_model(policy, env, bug_env, 100, history_window=5)\n",
    "        accuracies.append(test_accu)\n",
    "        recalls.append(recall)\n",
    "        precisions.append(prec)\n",
    "        \n",
    "    accuracies = np.array(accuracies)\n",
    "    recalls = fill_na_with_mean(np.array(recalls))\n",
    "    precisions = fill_na_with_mean(np.array(precisions))\n",
    "    \n",
    "    print('GMM Model, 5 Frames, Single Direction Policy')\n",
    "    print(\"accuracy: ${:.1f} \\pm {:.1f}$\".format(accuracies.mean(axis=0)[-1] * 100, mean_confidence_interval(accuracies[:, -1])[-1] * 100))\n",
    "    print(\"precision: ${:.1f} \\pm {:.1f}$\".format(precisions.mean(axis=0)[-1] * 100, mean_confidence_interval(precisions[:, -1])[-1] * 100))\n",
    "    print(\"recall: ${:.1f} \\pm {:.1f}$\".format(recalls.mean(axis=0)[-1] * 100, mean_confidence_interval(recalls[:, -1])[-1] * 100))\n",
    "    \n",
    "    accuracies, recalls, precisions = [], [], []\n",
    "    \n",
    "    for _ in range(5):\n",
    "        policy = RandomSingleDirectionPolicy()\n",
    "        test_accu, prec, recall, _ = train_naive_gmm_model(policy, env, bug_env, 100, history_window=5)\n",
    "        accuracies.append(test_accu)\n",
    "        recalls.append(recall)\n",
    "        precisions.append(prec)\n",
    "    \n",
    "    accuracies = np.array(accuracies)\n",
    "    recalls = fill_na_with_mean(np.array(recalls))\n",
    "    precisions = fill_na_with_mean(np.array(precisions))\n",
    "    \n",
    "    print('GMM Model, 5 Frames, Random Policy')\n",
    "    print(\"accuracy: ${:.1f} \\pm {:.1f}$\".format(accuracies.mean(axis=0)[-1] * 100, mean_confidence_interval(accuracies[:, -1])[-1] * 100))\n",
    "    print(\"precision: ${:.1f} \\pm {:.1f}$\".format(precisions.mean(axis=0)[-1] * 100, mean_confidence_interval(precisions[:, -1])[-1] * 100))\n",
    "    print(\"recall: ${:.1f} \\pm {:.1f}$\".format(recalls.mean(axis=0)[-1] * 100, mean_confidence_interval(recalls[:, -1])[-1] * 100))"
   ]
  },
  {
   "cell_type": "code",
   "execution_count": null,
   "metadata": {},
   "outputs": [],
   "source": [
    "for history_window in [5]:  # 20, 50\n",
    "    \n",
    "    accuracies, recalls, precisions = [], [], []\n",
    "    \n",
    "    for _ in range(5):\n",
    "        policy = SingleDirectionPolicy()\n",
    "        test_accu, prec, recall, _ = train_naive_vae_model(policy, env, bug_env, 150, history_window=history_window, cuda=True)\n",
    "        accuracies.append(test_accu)\n",
    "        recalls.append(recall)\n",
    "        precisions.append(prec)\n",
    "    \n",
    "    accuracies = np.array(accuracies)\n",
    "    recalls = fill_na_with_mean(np.array(recalls))\n",
    "    precisions = fill_na_with_mean(np.array(precisions))\n",
    "    \n",
    "    print('PyTorch VAE, 5 Frames, Single Direction Policy')\n",
    "    print(\"accuracy: ${:.1f} \\pm {:.1f}$\".format(accuracies.mean(axis=0)[-1] * 100, mean_confidence_interval(accuracies[:, -1])[-1] * 100))\n",
    "    print(\"precision: ${:.1f} \\pm {:.1f}$\".format(precisions.mean(axis=0)[-1] * 100, mean_confidence_interval(precisions[:, -1])[-1] * 100))\n",
    "    print(\"recall: ${:.1f} \\pm {:.1f}$\".format(recalls.mean(axis=0)[-1] * 100, mean_confidence_interval(recalls[:, -1])[-1] * 100))\n",
    "    \n",
    "    accuracies, recalls, precisions = [], [], []\n",
    "    \n",
    "    for _ in range(5):\n",
    "        policy = RandomSingleDirectionPolicy()\n",
    "        test_accu, prec, recall, _ = train_naive_vae_model(policy, env, bug_env, 150, history_window=history_window, cuda=True)\n",
    "        accuracies.append(test_accu)\n",
    "        recalls.append(recall)\n",
    "        precisions.append(prec)\n",
    "    \n",
    "    accuracies = np.array(accuracies)\n",
    "    recalls = fill_na_with_mean(np.array(recalls))\n",
    "    precisions = fill_na_with_mean(np.array(precisions))\n",
    "    \n",
    "    print('PyTorch VAE, 5 Frames, Random Policy')\n",
    "    print(\"accuracy: ${:.1f} \\pm {:.1f}$\".format(accuracies.mean(axis=0)[-1] * 100, mean_confidence_interval(accuracies[:, -1])[-1] * 100))\n",
    "    print(\"precision: ${:.1f} \\pm {:.1f}$\".format(precisions.mean(axis=0)[-1] * 100, mean_confidence_interval(precisions[:, -1])[-1] * 100))\n",
    "    print(\"recall: ${:.1f} \\pm {:.1f}$\".format(recalls.mean(axis=0)[-1] * 100, mean_confidence_interval(recalls[:, -1])[-1] * 100))\n",
    "\n",
    "    \n",
    "    # next model: SAE\n",
    "    accuracies, recalls, precisions = [], [], []\n",
    "    \n",
    "    for _ in range(3):\n",
    "        policy = SingleDirectionPolicy()\n",
    "        test_accu, prec, recall, _ = train_naive_sae_lstm_model(policy, env, bug_env, 100, \n",
    "                                                                                cuda=True, batch_size=4, \n",
    "                                                                                threshold_offset=0.5)\n",
    "        accuracies.append(test_accu)\n",
    "        recalls.append(recall)\n",
    "        precisions.append(prec)\n",
    "    \n",
    "    accuracies = np.array(accuracies)\n",
    "    recalls = fill_na_with_mean(np.array(recalls))\n",
    "    precisions = fill_na_with_mean(np.array(precisions))\n",
    "    \n",
    "    print('HoareLSTM, Single Direction Policy')\n",
    "    print(\"accuracy: ${:.1f} \\pm {:.1f}$\".format(accuracies.mean(axis=0)[-1] * 100, mean_confidence_interval(accuracies[:, -1])[-1] * 100))\n",
    "    print(\"precision: ${:.1f} \\pm {:.1f}$\".format(precisions.mean(axis=0)[-1] * 100, mean_confidence_interval(precisions[:, -1])[-1] * 100))\n",
    "    print(\"recall: ${:.1f} \\pm {:.1f}$\".format(recalls.mean(axis=0)[-1] * 100, mean_confidence_interval(recalls[:, -1])[-1] * 100))\n",
    "    \n",
    "    accuracies, recalls, precisions = [], [], []\n",
    "    \n",
    "    for _ in range(3):\n",
    "        policy = RandomSingleDirectionPolicy()\n",
    "        test_accu, prec, recall, _ = train_naive_sae_lstm_model(policy, env, bug_env, 100, \n",
    "                                                                                cuda=True, batch_size=4, \n",
    "                                                                                threshold_offset=0.2)\n",
    "        accuracies.append(test_accu)\n",
    "        recalls.append(recall)\n",
    "        precisions.append(prec)\n",
    "    \n",
    "    accuracies = np.array(accuracies)\n",
    "    recalls = fill_na_with_mean(np.array(recalls))\n",
    "    precisions = fill_na_with_mean(np.array(precisions))\n",
    "    \n",
    "    print('HoareLSTM, Random Policy')\n",
    "    print(\"accuracy: ${:.1f} \\pm {:.1f}$\".format(accuracies.mean(axis=0)[-1] * 100, mean_confidence_interval(accuracies[:, -1])[-1] * 100))\n",
    "    print(\"precision: ${:.1f} \\pm {:.1f}$\".format(precisions.mean(axis=0)[-1] * 100, mean_confidence_interval(precisions[:, -1])[-1] * 100))\n",
    "    print(\"recall: ${:.1f} \\pm {:.1f}$\".format(recalls.mean(axis=0)[-1] * 100, mean_confidence_interval(recalls[:, -1])[-1] * 100))\n",
    "    \n",
    "    # Contrastive HoareLSTM\n",
    "    accuracies, recalls, precisions = [], [], []\n",
    "    \n",
    "    for _ in range(3):\n",
    "        policy = SingleDirectionPolicy()\n",
    "        test_accu, prec, recall, _ = train_naive_hoare_lstm_model(policy, env, bug_env, 100, \n",
    "                                                                                cuda=True, batch_size=4, \n",
    "                                                                                hoare_threshold=0.5)\n",
    "        accuracies.append(test_accu)\n",
    "        recalls.append(recall)\n",
    "        precisions.append(prec)\n",
    "    \n",
    "    accuracies = np.array(accuracies)\n",
    "    recalls = fill_na_with_mean(np.array(recalls))\n",
    "    precisions = fill_na_with_mean(np.array(precisions))\n",
    "    \n",
    "    print('Contrastive HoareLSTM, Single Direction Policy')\n",
    "    print(\"accuracy: ${:.1f} \\pm {:.1f}$\".format(accuracies.mean(axis=0)[-1] * 100, mean_confidence_interval(accuracies[:, -1])[-1] * 100))\n",
    "    print(\"precision: ${:.1f} \\pm {:.1f}$\".format(precisions.mean(axis=0)[-1] * 100, mean_confidence_interval(precisions[:, -1])[-1] * 100))\n",
    "    print(\"recall: ${:.1f} \\pm {:.1f}$\".format(recalls.mean(axis=0)[-1] * 100, mean_confidence_interval(recalls[:, -1])[-1] * 100))\n",
    "    \n",
    "    accuracies, recalls, precisions = [], [], []\n",
    "    \n",
    "    for _ in range(3):\n",
    "        policy = RandomSingleDirectionPolicy()\n",
    "        test_accu, prec, recall, _ = train_naive_hoare_lstm_model(policy, env, bug_env, 100, \n",
    "                                                                                cuda=True, batch_size=4, \n",
    "                                                                                hoare_threshold=0.5)\n",
    "        accuracies.append(test_accu)\n",
    "        recalls.append(recall)\n",
    "        precisions.append(prec)\n",
    "    \n",
    "    accuracies = np.array(accuracies)\n",
    "    recalls = fill_na_with_mean(np.array(recalls))\n",
    "    precisions = fill_na_with_mean(np.array(precisions))\n",
    "    \n",
    "    print('Contrastive HoareLSTM, Random Policy')\n",
    "    print(\"accuracy: ${:.1f} \\pm {:.1f}$\".format(accuracies.mean(axis=0)[-1] * 100, mean_confidence_interval(accuracies[:, -1])[-1] * 100))\n",
    "    print(\"precision: ${:.1f} \\pm {:.1f}$\".format(precisions.mean(axis=0)[-1] * 100, mean_confidence_interval(precisions[:, -1])[-1] * 100))\n",
    "    print(\"recall: ${:.1f} \\pm {:.1f}$\".format(recalls.mean(axis=0)[-1] * 100, mean_confidence_interval(recalls[:, -1])[-1] * 100))"
   ]
  },
  {
   "cell_type": "markdown",
   "metadata": {},
   "source": [
    "## Table 2: Car-Hard\n",
    "\n",
    "Here, we demonstrate the potential of collaborative training.\n",
    "\n",
    "Each cell contains the training / evaluation code for a full run, starting from random agent initialization (first column), to collaborative training first iteration (CT - Iteration 1) to second iteration (CT - Iteration 2).\n",
    "\n",
    "We present the code in reverse order -- Contrastive HoareLSTM first, and baseline methods later.\n",
    "\n",
    "**How to read the result**\n",
    "\n",
    "We are averaging over 3 runs, each run consists of 3 evaluations and 2 iterations of training (initial, CT 1, CT 2).\n",
    "\n",
    "```python\n",
    "print(np.array(accus_runs).mean(axis=0))\n",
    "print(np.array(precs_runs).mean(axis=0))\n",
    "print(np.array(recs_runs).mean(axis=0))\n",
    "```\n",
    "\n",
    "This block will output something like:\n",
    "\n",
    "```\n",
    "            Initial      CT1        CT2\n",
    "Accuracy    [0.98496583 0.98931373 0.98959953]\n",
    "Precision   [1. 1. 1.]\n",
    "Recall.     [0.90868835 0.97522616 0.9822013 ]\n",
    "```"
   ]
  },
  {
   "cell_type": "code",
   "execution_count": 4,
   "metadata": {},
   "outputs": [
    {
     "data": {
      "text/plain": [
       "CarEnv mode hard, trigger: (7, 4), Easiness: 0.3"
      ]
     },
     "execution_count": 4,
     "metadata": {},
     "output_type": "execute_result"
    }
   ],
   "source": [
    "env = CarEnv(bug=False, mode='hard')\n",
    "bug_env = CarEnv(bug=True, mode='hard')\n",
    "\n",
    "bug_env.medium_high_end = 7\n",
    "bug_env.medium_low_end = 4\n",
    "bug_env.medium_easiness = 0.3\n",
    "\n",
    "bug_env"
   ]
  },
  {
   "cell_type": "code",
   "execution_count": 5,
   "metadata": {},
   "outputs": [],
   "source": [
    "from warnings import simplefilter\n",
    "from sklearn.exceptions import ConvergenceWarning, UndefinedMetricWarning\n",
    "simplefilter(\"ignore\", category=ConvergenceWarning)\n",
    "simplefilter(\"ignore\", category=UndefinedMetricWarning)"
   ]
  },
  {
   "cell_type": "markdown",
   "metadata": {},
   "source": [
    "### Contrastive HoareLSTM"
   ]
  },
  {
   "cell_type": "code",
   "execution_count": 11,
   "metadata": {},
   "outputs": [
    {
     "name": "stderr",
     "output_type": "stream",
     "text": [
      "  0%|          | 0/500 [00:00<?, ?it/s]/usr/lib/python3/dist-packages/numpy/core/fromnumeric.py:3256: RuntimeWarning: Mean of empty slice.\n",
      "  return _methods._mean(a, axis=axis, dtype=dtype,\n",
      "/usr/lib/python3/dist-packages/numpy/core/_methods.py:161: RuntimeWarning: invalid value encountered in double_scalars\n",
      "  ret = ret.dtype.type(ret / rcount)\n",
      "100%|██████████| 500/500 [00:33<00:00, 14.88it/s]\n",
      "  0%|          | 3/1500 [00:00<00:50, 29.67it/s]"
     ]
    },
    {
     "name": "stdout",
     "output_type": "stream",
     "text": [
      "Initial\n",
      "0.9924812030075187\n",
      "1.0\n",
      "0.9130434782608695\n"
     ]
    },
    {
     "name": "stderr",
     "output_type": "stream",
     "text": [
      "100%|██████████| 1500/1500 [00:56<00:00, 26.39it/s]\n"
     ]
    },
    {
     "data": {
      "image/png": "[encoded data removed]",
      "text/plain": [
       "<Figure size 432x288 with 1 Axes>"
      ]
     },
     "metadata": {
      "needs_background": "light"
     },
     "output_type": "display_data"
    },
    {
     "name": "stderr",
     "output_type": "stream",
     "text": [
      "100%|██████████| 250/250 [00:30<00:00,  8.07it/s]\n",
      "  0%|          | 3/1000 [00:00<00:43, 22.72it/s]"
     ]
    },
    {
     "name": "stdout",
     "output_type": "stream",
     "text": [
      "First iteration\n",
      "0.97\n",
      "1.0\n",
      "0.9510869565217391\n"
     ]
    },
    {
     "name": "stderr",
     "output_type": "stream",
     "text": [
      "100%|██████████| 1000/1000 [00:42<00:00, 23.33it/s]\n"
     ]
    },
    {
     "data": {
      "image/png": "[encoded data removed]",
      "text/plain": [
       "<Figure size 432x288 with 1 Axes>"
      ]
     },
     "metadata": {
      "needs_background": "light"
     },
     "output_type": "display_data"
    },
    {
     "name": "stderr",
     "output_type": "stream",
     "text": [
      "100%|██████████| 250/250 [00:35<00:00,  7.04it/s]\n",
      "  0%|          | 0/500 [00:00<?, ?it/s]"
     ]
    },
    {
     "name": "stdout",
     "output_type": "stream",
     "text": [
      "Second iteration\n",
      "0.9766666666666667\n",
      "0.9944444444444445\n",
      "0.9675675675675676\n"
     ]
    },
    {
     "name": "stderr",
     "output_type": "stream",
     "text": [
      "100%|██████████| 500/500 [00:34<00:00, 14.65it/s]\n",
      "  0%|          | 4/1500 [00:00<00:46, 32.16it/s]"
     ]
    },
    {
     "name": "stdout",
     "output_type": "stream",
     "text": [
      "Initial\n",
      "0.9888888888888889\n",
      "1.0\n",
      "0.8125\n"
     ]
    },
    {
     "name": "stderr",
     "output_type": "stream",
     "text": [
      "100%|██████████| 1500/1500 [00:56<00:00, 26.43it/s]\n"
     ]
    },
    {
     "data": {
      "image/png": "[encoded data removed]",
      "text/plain": [
       "<Figure size 432x288 with 1 Axes>"
      ]
     },
     "metadata": {
      "needs_background": "light"
     },
     "output_type": "display_data"
    },
    {
     "name": "stderr",
     "output_type": "stream",
     "text": [
      "100%|██████████| 250/250 [00:31<00:00,  7.93it/s]\n",
      "  0%|          | 3/1000 [00:00<00:44, 22.43it/s]"
     ]
    },
    {
     "name": "stdout",
     "output_type": "stream",
     "text": [
      "First iteration\n",
      "0.9716312056737588\n",
      "1.0\n",
      "0.9473684210526315\n"
     ]
    },
    {
     "name": "stderr",
     "output_type": "stream",
     "text": [
      "100%|██████████| 1000/1000 [00:41<00:00, 23.82it/s]\n"
     ]
    },
    {
     "data": {
      "image/png": "[encoded data removed]",
      "text/plain": [
       "<Figure size 432x288 with 1 Axes>"
      ]
     },
     "metadata": {
      "needs_background": "light"
     },
     "output_type": "display_data"
    },
    {
     "name": "stderr",
     "output_type": "stream",
     "text": [
      "100%|██████████| 250/250 [00:36<00:00,  6.81it/s]\n",
      "  0%|          | 0/500 [00:00<?, ?it/s]"
     ]
    },
    {
     "name": "stdout",
     "output_type": "stream",
     "text": [
      "Second iteration\n",
      "0.97\n",
      "1.0\n",
      "0.9516129032258065\n"
     ]
    },
    {
     "name": "stderr",
     "output_type": "stream",
     "text": [
      "100%|██████████| 500/500 [00:34<00:00, 14.55it/s]\n",
      "  0%|          | 5/1500 [00:00<00:31, 48.12it/s]"
     ]
    },
    {
     "name": "stdout",
     "output_type": "stream",
     "text": [
      "Initial\n",
      "0.9807692307692307\n",
      "1.0\n",
      "0.9206349206349206\n"
     ]
    },
    {
     "name": "stderr",
     "output_type": "stream",
     "text": [
      "100%|██████████| 1500/1500 [00:52<00:00, 28.36it/s]\n"
     ]
    },
    {
     "data": {
      "image/png": "[encoded data removed]",
      "text/plain": [
       "<Figure size 432x288 with 1 Axes>"
      ]
     },
     "metadata": {
      "needs_background": "light"
     },
     "output_type": "display_data"
    },
    {
     "name": "stderr",
     "output_type": "stream",
     "text": [
      "100%|██████████| 250/250 [00:31<00:00,  8.04it/s]\n",
      "  0%|          | 3/1000 [00:00<00:43, 22.83it/s]"
     ]
    },
    {
     "name": "stdout",
     "output_type": "stream",
     "text": [
      "First iteration\n",
      "0.9633333333333334\n",
      "0.9861111111111112\n",
      "0.9403973509933775\n"
     ]
    },
    {
     "name": "stderr",
     "output_type": "stream",
     "text": [
      "100%|██████████| 1000/1000 [00:42<00:00, 23.51it/s]\n"
     ]
    },
    {
     "data": {
      "image/png": "[encoded data removed]",
      "text/plain": [
       "<Figure size 432x288 with 1 Axes>"
      ]
     },
     "metadata": {
      "needs_background": "light"
     },
     "output_type": "display_data"
    },
    {
     "name": "stderr",
     "output_type": "stream",
     "text": [
      "100%|██████████| 250/250 [00:36<00:00,  6.92it/s]"
     ]
    },
    {
     "name": "stdout",
     "output_type": "stream",
     "text": [
      "Second iteration\n",
      "0.9929577464788732\n",
      "1.0\n",
      "0.9879518072289156\n"
     ]
    },
    {
     "name": "stderr",
     "output_type": "stream",
     "text": [
      "\n"
     ]
    }
   ],
   "source": [
    "accus_runs, precs_runs, recs_runs = [], [], []\n",
    "\n",
    "for _ in range(3):\n",
    "\n",
    "    accus, precs, recs = [], [], []\n",
    "\n",
    "    action_input = True\n",
    "    delta = True\n",
    "    cuda = True\n",
    "    batch_size = 128\n",
    "\n",
    "    lstm = HoareLSTM(4, batch_size=batch_size, delta=delta,\n",
    "                     action_input=action_input)\n",
    "    if cuda:\n",
    "        lstm = lstm.to('cuda')\n",
    "    optimizer = optim.Adam(lstm.parameters(), lr=1e-3)\n",
    "    \n",
    "    bug_lstm = HoareLSTM(4, batch_size=batch_size, delta=delta, action_input=action_input)\n",
    "    if cuda:\n",
    "        bug_lstm = bug_lstm.to('cuda')\n",
    "    bug_optimizer = optim.Adam(bug_lstm.parameters(), lr=1e-3)\n",
    "\n",
    "\n",
    "    policy = RandomSingleDirectionPolicy()\n",
    "    test_accu, bug_precision, bug_recall, info = train_naive_hoare_lstm_model_inner(policy, lstm, bug_lstm, optimizer, bug_optimizer, env, bug_env, \n",
    "                                                                             epochs=500,\n",
    "                                                                             cuda=cuda, action_input=action_input, eps=0.05,\n",
    "                                                                             correct_training_epoch=5, \n",
    "                                                                             broken_training_epochs=5,\n",
    "                                                                             hoare_threshold=0.5)\n",
    "\n",
    "    # initial agent\n",
    "    print(\"Initial\")\n",
    "    print(test_accu[-1])\n",
    "    print(bug_precision[-1])\n",
    "    print(bug_recall[-1])\n",
    "    \n",
    "    accus.append(test_accu[-1]); precs.append(bug_precision[-1]); recs.append(bug_recall[-1])\n",
    "    \n",
    "    # First iteration\n",
    "    agent = Agent(4, 4, 1234, lr=1e-3)\n",
    "\n",
    "    scores, true_rewards, traj_dists, traj_preds, traj_labels = train_dqn(agent, bug_env, lstm, bug_lstm,\n",
    "                                                                     n_episodes=1500,\n",
    "                                                                     action_input=True, use_grader=True, hoare_threshold=1.5,\n",
    "                                                                     eps_start=0.1,\n",
    "                                                                     cuda=True)\n",
    "    plt.plot(scores)\n",
    "    plt.plot(true_rewards)\n",
    "    plt.show()\n",
    "    \n",
    "    # First iteration\n",
    "    test_accu, bug_precision, bug_recall, info = train_naive_hoare_lstm_model_inner(agent, lstm, bug_lstm, optimizer, bug_optimizer, env, bug_env, \n",
    "                                                                             epochs=250,\n",
    "                                                                             cuda=cuda, action_input=action_input, eps=0.05,\n",
    "                                                                             correct_training_epoch=5, \n",
    "                                                                             broken_training_epochs=5,\n",
    "                                                                             hoare_threshold=0.5)\n",
    "    \n",
    "    # First iteration\n",
    "    print(\"First iteration\")\n",
    "    print(test_accu[-1])\n",
    "    print(bug_precision[-1])\n",
    "    print(bug_recall[-1])\n",
    "    \n",
    "    accus.append(test_accu[-1]); precs.append(bug_precision[-1]); recs.append(bug_recall[-1])\n",
    "    \n",
    "    # Second iteration\n",
    "    scores, true_rewards, traj_dists, traj_preds, traj_labels = train_dqn(agent, bug_env, lstm, bug_lstm,\n",
    "                                                             n_episodes=1000,\n",
    "                                                             action_input=True, use_grader=True, hoare_threshold=1.5,\n",
    "                                                             eps_start=0.1,\n",
    "                                                             cuda=True)\n",
    "    plt.plot(scores)\n",
    "    plt.plot(true_rewards)\n",
    "    plt.show()\n",
    "    \n",
    "    # Second iteration\n",
    "    test_accu, bug_precision, bug_recall, info = train_naive_hoare_lstm_model_inner(agent, lstm, bug_lstm, optimizer, bug_optimizer, env, bug_env, \n",
    "                                                                             epochs=250,\n",
    "                                                                             cuda=cuda, action_input=action_input, eps=0.05,\n",
    "                                                                             correct_training_epoch=5, \n",
    "                                                                             broken_training_epochs=5,\n",
    "                                                                             hoare_threshold=0.5)\n",
    "    \n",
    "    # Second iteration\n",
    "    print(\"Second iteration\")\n",
    "    print(test_accu[-1])\n",
    "    print(bug_precision[-1])\n",
    "    print(bug_recall[-1])\n",
    "    \n",
    "    accus.append(test_accu[-1]); precs.append(bug_precision[-1]); recs.append(bug_recall[-1])\n",
    "    \n",
    "    accus_runs.append(accus); precs_runs.append(precs); recs_runs.append(recs)"
   ]
  },
  {
   "cell_type": "code",
   "execution_count": 12,
   "metadata": {},
   "outputs": [
    {
     "name": "stdout",
     "output_type": "stream",
     "text": [
      "[0.98737977 0.96832151 0.9798748 ]\n",
      "[1.         0.99537037 0.99814815]\n",
      "[0.88205947 0.94628424 0.96904409]\n"
     ]
    }
   ],
   "source": [
    "# average over 3 runs\n",
    "\n",
    "print(np.array(accus_runs).mean(axis=0))\n",
    "print(np.array(precs_runs).mean(axis=0))\n",
    "print(np.array(recs_runs).mean(axis=0))"
   ]
  },
  {
   "cell_type": "markdown",
   "metadata": {},
   "source": [
    "### HoareLSTM"
   ]
  },
  {
   "cell_type": "code",
   "execution_count": null,
   "metadata": {},
   "outputs": [],
   "source": [
    "accus_runs, precs_runs, recs_runs = [], [], []\n",
    "\n",
    "for _ in range(5):\n",
    "\n",
    "    accus, precs, recs = [], [], []\n",
    "\n",
    "    action_input = True\n",
    "    delta = True\n",
    "    cuda = True\n",
    "    batch_size = 128\n",
    "\n",
    "    lstm = HoareLSTM(4, batch_size=batch_size, delta=delta,\n",
    "                     action_input=action_input)\n",
    "    if cuda:\n",
    "        lstm = lstm.to('cuda')\n",
    "    optimizer = optim.Adam(lstm.parameters(), lr=1e-3)\n",
    "\n",
    "\n",
    "    policy = RandomSingleDirectionPolicy()\n",
    "    test_accu, bug_precision, bug_recall, info = train_naive_sae_lstm_model_inner(policy, lstm, optimizer, \n",
    "                                                                                  env, bug_env, 100, \n",
    "                                                                                    cuda=True, batch_size=batch_size, \n",
    "                                                                                    threshold_offset=2.0,\n",
    "                                                                                   delta=True, action_input=True)\n",
    "\n",
    "    # initial agent\n",
    "    print(\"Initial\")\n",
    "    print(test_accu[-1])\n",
    "    print(bug_precision[-1])\n",
    "    print(bug_recall[-1])\n",
    "    \n",
    "    accus.append(test_accu[-1]); precs.append(bug_precision[-1]); recs.append(bug_recall[-1])\n",
    "    \n",
    "    # First iteration\n",
    "    agent = Agent(4, 4, 1234, lr=1e-3)\n",
    "\n",
    "    scores, true_rewards, traj_dists, traj_preds, traj_labels = train_dqn_sae(agent, bug_env, lstm,\n",
    "                                                 n_episodes=1500,\n",
    "                                                 action_input=True, use_grader=True, threshold_offset=2.0,\n",
    "                                                 eps_start=0.1,\n",
    "                                                 cuda=True)\n",
    "    #plt.plot(scores)\n",
    "    #plt.plot(true_rewards)\n",
    "    #plt.show()\n",
    "    \n",
    "    # First iteration\n",
    "    test_accu, bug_precision, bug_recall, info = train_naive_sae_lstm_model_inner(agent, lstm, optimizer, \n",
    "                                                                                  env, bug_env, 50, \n",
    "                                                                                    cuda=True, batch_size=batch_size, \n",
    "                                                                                    threshold_offset=2.0,\n",
    "                                                                                   delta=True, action_input=True)\n",
    "    \n",
    "    # First iteration\n",
    "    print(\"First iteration\")\n",
    "    print(test_accu[-1])\n",
    "    print(bug_precision[-1])\n",
    "    print(bug_recall[-1])\n",
    "    \n",
    "    accus.append(test_accu[-1]); precs.append(bug_precision[-1]); recs.append(bug_recall[-1])\n",
    "    \n",
    "    # Second iteration\n",
    "    scores, true_rewards, traj_dists, traj_preds, traj_labels = train_dqn_sae(agent, bug_env, lstm,\n",
    "                                                 n_episodes=1000,\n",
    "                                                 action_input=True, use_grader=True, threshold_offset=2.0,\n",
    "                                                 eps_start=0.1,\n",
    "                                                 cuda=True)\n",
    "    #plt.plot(scores)\n",
    "    #plt.plot(true_rewards)\n",
    "    #plt.show()\n",
    "    \n",
    "    # Second iteration\n",
    "    test_accu, bug_precision, bug_recall, info = train_naive_sae_lstm_model_inner(agent, lstm, optimizer, \n",
    "                                                                                  env, bug_env, 50, \n",
    "                                                                                    cuda=True, batch_size=batch_size, \n",
    "                                                                                    threshold_offset=2.0,\n",
    "                                                                                   delta=True, action_input=True)\n",
    "    \n",
    "    # Second iteration\n",
    "    print(\"Second iteration\")\n",
    "    print(test_accu[-1])\n",
    "    print(bug_precision[-1])\n",
    "    print(bug_recall[-1])\n",
    "    \n",
    "    accus.append(test_accu[-1]); precs.append(bug_precision[-1]); recs.append(bug_recall[-1])\n",
    "    \n",
    "    accus_runs.append(accus); precs_runs.append(precs); recs_runs.append(recs)"
   ]
  },
  {
   "cell_type": "code",
   "execution_count": null,
   "metadata": {},
   "outputs": [],
   "source": [
    "# average over 3 runs\n",
    "\n",
    "print(np.array(accus_runs).mean(axis=0))\n",
    "print(np.array(precs_runs).mean(axis=0))\n",
    "print(np.array(recs_runs).mean(axis=0))"
   ]
  },
  {
   "cell_type": "markdown",
   "metadata": {},
   "source": [
    "### VAE"
   ]
  },
  {
   "cell_type": "code",
   "execution_count": 14,
   "metadata": {},
   "outputs": [],
   "source": [
    "from car.rl_training import train_dqn_vae, train_dqn_gmm, train_dqn_mlp\n",
    "from car.classifiers import VAE\n",
    "from car.training import train_naive_vae_model_inner, train_naive_gmm_model_inner, train_naive_supervised_classifier_inner\n",
    "\n",
    "from sklearn.mixture import GaussianMixture\n",
    "from sklearn.neural_network import MLPClassifier"
   ]
  },
  {
   "cell_type": "code",
   "execution_count": 15,
   "metadata": {},
   "outputs": [],
   "source": [
    "import warnings\n",
    "warnings.filterwarnings('ignore') "
   ]
  },
  {
   "cell_type": "code",
   "execution_count": null,
   "metadata": {},
   "outputs": [],
   "source": [
    "accus_runs, precs_runs, recs_runs = [], [], []\n",
    "\n",
    "for _ in range(3):\n",
    "\n",
    "    accus, precs, recs = [], [], []\n",
    "    \n",
    "    feat_dim = 4\n",
    "    cuda = True\n",
    "    history_window = 5\n",
    "\n",
    "    model = VAE(feat_dim * history_window)\n",
    "    if cuda:\n",
    "        model = model.to('cuda')\n",
    "\n",
    "    optimizer = optim.Adam(model.parameters(), lr=1e-5)\n",
    "\n",
    "    rand_policy = RandomSingleDirectionPolicy()\n",
    "    test_accu, bug_precision, bug_recall, (model, train_losses) = train_naive_vae_model_inner(rand_policy, model, optimizer, env, bug_env, 500, history_window=history_window, cuda=True)\n",
    "     \n",
    "\n",
    "    # initial agent\n",
    "    print(\"Initial\")\n",
    "    print(test_accu[-1])\n",
    "    print(bug_precision[-1])\n",
    "    print(bug_recall[-1])\n",
    "    \n",
    "    accus.append(test_accu[-1]); precs.append(bug_precision[-1]); recs.append(bug_recall[-1])\n",
    "    \n",
    "    # First iteration\n",
    "    agent = Agent(4, 4, 1234, lr=1e-3)\n",
    "    vae_threshold = np.mean(train_losses[-100:])\n",
    "    scores, true_rewards, traj_dists, traj_preds, traj_labels = train_dqn_vae(agent, bug_env, model, n_episodes=1500,\n",
    "                                  eps_start=0.1, vae_threshold=vae_threshold, history_window=5,\n",
    "                                  cuda=True)\n",
    "    \n",
    "    plt.plot(scores)\n",
    "    plt.plot(true_rewards)\n",
    "    plt.show()\n",
    "    \n",
    "    # First iteration\n",
    "    test_accu, bug_precision, bug_recall, (model, train_losses) = train_naive_vae_model_inner(agent, model, optimizer, env, bug_env, 500, history_window=history_window, cuda=True)\n",
    "    \n",
    "    # First iteration\n",
    "    print(\"First iteration\")\n",
    "    print(test_accu[-1])\n",
    "    print(bug_precision[-1])\n",
    "    print(bug_recall[-1])\n",
    "    \n",
    "    accus.append(test_accu[-1]); precs.append(bug_precision[-1]); recs.append(bug_recall[-1])\n",
    "    \n",
    "    # Second iteration\n",
    "    # np.mean(train_losses[-100:])\n",
    "    scores, true_rewards, traj_dists, traj_preds, traj_labels = train_dqn_vae(agent, bug_env, model, n_episodes=1000,\n",
    "                                  eps_start=0.1, vae_threshold=vae_threshold, history_window=5,\n",
    "                                  cuda=True)\n",
    "    plt.plot(scores)\n",
    "    plt.plot(true_rewards)\n",
    "    plt.show()\n",
    "    \n",
    "    # Second iteration\n",
    "    test_accu, bug_precision, bug_recall, (model, train_losses) = train_naive_vae_model_inner(agent, model, optimizer, env, bug_env, 500, history_window=history_window, cuda=True)\n",
    "    \n",
    "    # Second iteration\n",
    "    print(\"Second iteration\")\n",
    "    print(test_accu[-1])\n",
    "    print(bug_precision[-1])\n",
    "    print(bug_recall[-1])\n",
    "    \n",
    "    accus.append(test_accu[-1]); precs.append(bug_precision[-1]); recs.append(bug_recall[-1])\n",
    "    \n",
    "    accus_runs.append(accus); precs_runs.append(precs); recs_runs.append(recs)"
   ]
  },
  {
   "cell_type": "code",
   "execution_count": null,
   "metadata": {},
   "outputs": [],
   "source": [
    "# average over 3 runs\n",
    "\n",
    "print(np.array(accus_runs).mean(axis=0))\n",
    "print(np.array(precs_runs).mean(axis=0))\n",
    "print(np.array(recs_runs).mean(axis=0))"
   ]
  },
  {
   "cell_type": "markdown",
   "metadata": {},
   "source": [
    "### GMM"
   ]
  },
  {
   "cell_type": "code",
   "execution_count": null,
   "metadata": {},
   "outputs": [],
   "source": [
    "accus_runs, precs_runs, recs_runs = [], [], []\n",
    "\n",
    "for _ in range(3):\n",
    "\n",
    "    accus, precs, recs = [], [], []\n",
    "    \n",
    "    rand_policy = RandomSingleDirectionPolicy()\n",
    "    model = GaussianMixture(n_components=8, covariance_type='full', max_iter=500)\n",
    "    test_accu, bug_precision, bug_recall, (model, normalizer, train_losses) = train_naive_gmm_model_inner(rand_policy, \n",
    "                                                                                             model, env, \n",
    "                                                                                             bug_env, epochs=100, history_window=history_window)\n",
    "     \n",
    "     \n",
    "\n",
    "    # initial agent\n",
    "    print(\"Initial\")\n",
    "    print(test_accu[-1])\n",
    "    print(bug_precision[-1])\n",
    "    print(bug_recall[-1])\n",
    "    \n",
    "    accus.append(test_accu[-1]); precs.append(bug_precision[-1]); recs.append(bug_recall[-1])\n",
    "    \n",
    "    # First iteration\n",
    "    agent = Agent(4, 4, 1234, lr=1e-3)\n",
    "    scores, true_rewards, traj_dists, traj_preds, traj_labels = train_dqn_gmm(agent, bug_env, model, normalizer, n_episodes=1500,\n",
    "                                                                  eps_start=0.1, history_window=5)\n",
    "    \n",
    "    plt.plot(scores)\n",
    "    plt.plot(true_rewards)\n",
    "    plt.show()\n",
    "    \n",
    "    # First iteration\n",
    "    test_accu, bug_precision, bug_recall, (model, normalizer, train_losses) = train_naive_gmm_model_inner(agent, \n",
    "                                                                                             model, env, \n",
    "                                                                                             bug_env, \n",
    "                                                                                             epochs=100, history_window=history_window)\n",
    "    \n",
    "    # First iteration\n",
    "    print(\"First iteration\")\n",
    "    print(test_accu[-1])\n",
    "    print(bug_precision[-1])\n",
    "    print(bug_recall[-1])\n",
    "    \n",
    "    accus.append(test_accu[-1]); precs.append(bug_precision[-1]); recs.append(bug_recall[-1])\n",
    "    \n",
    "    # Second iteration\n",
    "    # np.mean(train_losses[-100:])\n",
    "    scores, true_rewards, traj_dists, traj_preds, traj_labels = train_dqn_gmm(agent, bug_env, model, normalizer, n_episodes=1500,\n",
    "                                                                  eps_start=0.1, history_window=5)\n",
    "    plt.plot(scores)\n",
    "    plt.plot(true_rewards)\n",
    "    plt.show()\n",
    "    \n",
    "    # Second iteration\n",
    "    test_accu, bug_precision, bug_recall, (model, normalizer, train_losses) = train_naive_gmm_model_inner(agent, \n",
    "                                                                                             model, env, \n",
    "                                                                                             bug_env, \n",
    "                                                                                             epochs=100, history_window=history_window)\n",
    "    \n",
    "    # Second iteration\n",
    "    print(\"Second iteration\")\n",
    "    print(test_accu[-1])\n",
    "    print(bug_precision[-1])\n",
    "    print(bug_recall[-1])\n",
    "    \n",
    "    accus.append(test_accu[-1]); precs.append(bug_precision[-1]); recs.append(bug_recall[-1])\n",
    "    \n",
    "    accus_runs.append(accus); precs_runs.append(precs); recs_runs.append(recs)"
   ]
  },
  {
   "cell_type": "code",
   "execution_count": null,
   "metadata": {},
   "outputs": [],
   "source": [
    "# average over 3 runs\n",
    "\n",
    "print(np.array(accus_runs).mean(axis=0))\n",
    "print(fill_na_with_mean(np.array(precs_runs)).mean(axis=0))\n",
    "print(fill_na_with_mean(np.array(recs_runs)).mean(axis=0))"
   ]
  },
  {
   "cell_type": "markdown",
   "metadata": {},
   "source": [
    "### MLP"
   ]
  },
  {
   "cell_type": "code",
   "execution_count": null,
   "metadata": {},
   "outputs": [],
   "source": [
    "accus_runs, precs_runs, recs_runs = [], [], []\n",
    "\n",
    "for _ in range(3):\n",
    "\n",
    "    accus, precs, recs = [], [], []\n",
    "    \n",
    "    rand_policy = RandomSingleDirectionPolicy()\n",
    "    model = MLPClassifier(solver='adam', alpha=1e-5,\n",
    "                        hidden_layer_sizes=(100, 100), random_state=1,\n",
    "                        max_iter=5)\n",
    "    test_accu, bug_precision, bug_recall = train_naive_supervised_classifier_inner(rand_policy, model, env, bug_env, epochs=150, history_window=history_window)\n",
    "\n",
    "\n",
    "    # initial agent\n",
    "    print(\"Initial\")\n",
    "    print(test_accu[-1])\n",
    "    print(bug_precision[-1])\n",
    "    print(bug_recall[-1])\n",
    "    \n",
    "    accus.append(test_accu[-1]); precs.append(bug_precision[-1]); recs.append(bug_recall[-1])\n",
    "    \n",
    "    # First iteration\n",
    "    agent = Agent(4, 4, 1234, lr=1e-3)\n",
    "    scores, true_rewards, traj_dists, traj_preds, traj_labels = train_dqn_gmm(agent, bug_env, model, normalizer, n_episodes=1500,\n",
    "                                                                  eps_start=0.1, history_window=5)\n",
    "    \n",
    "    plt.plot(scores)\n",
    "    plt.plot(true_rewards)\n",
    "    plt.show()\n",
    "    \n",
    "    # First iteration\n",
    "    test_accu, bug_precision, bug_recall = train_naive_supervised_classifier_inner(agent, model, env, bug_env, epochs=150, history_window=history_window)\n",
    "    \n",
    "    # First iteration\n",
    "    print(\"First iteration\")\n",
    "    print(test_accu[-1])\n",
    "    print(bug_precision[-1])\n",
    "    print(bug_recall[-1])\n",
    "    \n",
    "    accus.append(test_accu[-1]); precs.append(bug_precision[-1]); recs.append(bug_recall[-1])\n",
    "    \n",
    "    # Second iteration\n",
    "    # np.mean(train_losses[-100:])\n",
    "    scores, true_rewards, traj_dists, traj_preds, traj_labels = train_dqn_gmm(agent, bug_env, model, normalizer, n_episodes=1500,\n",
    "                                                                  eps_start=0.1, history_window=5)\n",
    "    plt.plot(scores)\n",
    "    plt.plot(true_rewards)\n",
    "    plt.show()\n",
    "    \n",
    "    # Second iteration\n",
    "    test_accu, bug_precision, bug_recall = train_naive_supervised_classifier_inner(agent, model, env, bug_env, epochs=150, history_window=history_window)\n",
    "    \n",
    "    # Second iteration\n",
    "    print(\"Second iteration\")\n",
    "    print(test_accu[-1])\n",
    "    print(bug_precision[-1])\n",
    "    print(bug_recall[-1])\n",
    "    \n",
    "    accus.append(test_accu[-1]); precs.append(bug_precision[-1]); recs.append(bug_recall[-1])\n",
    "    \n",
    "    accus_runs.append(accus); precs_runs.append(precs); recs_runs.append(recs)"
   ]
  },
  {
   "cell_type": "code",
   "execution_count": null,
   "metadata": {},
   "outputs": [],
   "source": [
    "# average over 3 runs\n",
    "\n",
    "print(np.array(accus_runs).mean(axis=0))\n",
    "print(fill_na_with_mean(np.array(precs_runs)).mean(axis=0))\n",
    "print(fill_na_with_mean(np.array(recs_runs)).mean(axis=0))"
   ]
  }
 ],
 "metadata": {
  "kernelspec": {
   "display_name": "Python 3",
   "language": "python",
   "name": "python3"
  },
  "language_info": {
   "codemirror_mode": {
    "name": "ipython",
    "version": 3
   },
   "file_extension": ".py",
   "mimetype": "text/x-python",
   "name": "python",
   "nbconvert_exporter": "python",
   "pygments_lexer": "ipython3",
   "version": "3.8.5"
  }
 },
 "nbformat": 4,
 "nbformat_minor": 4
}
