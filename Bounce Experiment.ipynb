{
 "cells": [
  {
   "cell_type": "markdown",
   "metadata": {},
   "source": [
    "# Code to Demonstrate Bounce\n",
    "\n",
    "Since we are not providing the full dataset, this notebook shows how we: \n",
    "1. Pre-train the DQN agent \n",
    "2. Train Contrastive HoareLSTM to grade."
   ]
  },
  {
   "cell_type": "code",
   "execution_count": 7,
   "metadata": {},
   "outputs": [],
   "source": [
    "import json\n",
    "from tqdm import tqdm\n",
    "\n",
    "import numpy as np\n",
    "\n",
    "import matplotlib\n",
    "import matplotlib.pyplot as plt"
   ]
  },
  {
   "cell_type": "code",
   "execution_count": 2,
   "metadata": {},
   "outputs": [
    {
     "name": "stdout",
     "output_type": "stream",
     "text": [
      "pygame 2.0.1 (SDL 2.0.14, Python 3.8.5)\n",
      "Hello from the pygame community. https://www.pygame.org/contribute.html\n"
     ]
    }
   ],
   "source": [
    "from bounce.training import train_naive_hoare_lstm_model_inner\n",
    "from bounce.rl_training import collect_trajs, train_collaborative_dqn, train_dqn, evaluate_agent\n",
    "\n",
    "from bounce.agents import Agent\n",
    "from bounce.bounce import BounceEnv, BALL_IN_GOAL, BALL_MISS_PADDLE, BALL_HIT_WALL, BALL_HIT_PADDLE\n",
    "\n",
    "from bounce.bounce import Program, SELF_MINUS_HALF_OPPO\n",
    "\n",
    "from bounce.classifiers import HoareLSTM, save_torch_model, load_torch_model\n",
    "\n",
    "import torch.optim as optim\n",
    "\n",
    "from bounce.featurizer import contrastive_hoarelstm_featurize"
   ]
  },
  {
   "cell_type": "markdown",
   "metadata": {},
   "source": [
    "## Pre-train DQN Agent\n",
    "\n",
    "We first use the game's internal reward to train a DQN agent"
   ]
  },
  {
   "cell_type": "code",
   "execution_count": 3,
   "metadata": {},
   "outputs": [
    {
     "name": "stderr",
     "output_type": "stream",
     "text": [
      "100%|██████████| 1200/1200 [01:37<00:00,  6.35it/s, reward=25.2]"
     ]
    },
    {
     "data": {
      "text/plain": [
       "[<matplotlib.lines.Line2D at 0x7f7271224e20>]"
      ]
     },
     "execution_count": 3,
     "metadata": {},
     "output_type": "execute_result"
    },
    {
     "data": {
      "image/png": "[encoded data removed]",
      "text/plain": [
       "<Figure size 432x288 with 1 Axes>"
      ]
     },
     "metadata": {
      "needs_background": "light"
     },
     "output_type": "display_data"
    },
    {
     "name": "stderr",
     "output_type": "stream",
     "text": [
      "100%|██████████| 1200/1200 [01:37<00:00, 12.27it/s, reward=25.2]\n"
     ]
    }
   ],
   "source": [
    "program = Program()\n",
    "program.set_correct()\n",
    "env = BounceEnv(program, SELF_MINUS_HALF_OPPO, num_balls_to_win=2)\n",
    "\n",
    "agent = Agent(env.state_size, 3, 1234, fc1_units=256, fc2_units=256)\n",
    "\n",
    "scores, actions = train_dqn(agent, env, n_episodes=1200, eps_start=1.0, eps_end=0.01, \n",
    "                   eps_decay=0.995, max_t=200, cuda=True)\n",
    "\n",
    "plt.plot(scores)"
   ]
  },
  {
   "cell_type": "markdown",
   "metadata": {},
   "source": [
    "## Train Contrastive HoareLSTM Classifiers\n",
    "\n",
    "The training fully works -- we just can't evaluate without the true data."
   ]
  },
  {
   "cell_type": "code",
   "execution_count": 8,
   "metadata": {},
   "outputs": [],
   "source": [
    "def fix_single_quote_in_json(json_str, fix_json=True):\n",
    "    if not fix_json:\n",
    "        return json_str\n",
    "    \n",
    "    partial_fix = json_str.replace(\"'\", '\"')\n",
    "    for a in [\"\\\"random\\\"\", \"\\\"very slow\\\"\", \"\\\"slow\\\"\", \"\\\"normal\\\"\", \"\\\"fast\\\"\", \"\\\"very fast\\\"\",\n",
    "             '\"hardcourt\"', '\"retro\"']:\n",
    "        b = a.replace('\"', \"'\")\n",
    "        partial_fix = partial_fix.replace(a, b)\n",
    "        \n",
    "    return partial_fix"
   ]
  },
  {
   "cell_type": "code",
   "execution_count": 4,
   "metadata": {},
   "outputs": [],
   "source": [
    "import os\n",
    "from os.path import join as pjoin\n",
    "\n",
    "def train_hoarelstm_classifiers(agent, bug_program_path, model_name, save_folder_name, max_t=100,\n",
    "                               epochs=150):\n",
    "    \n",
    "    os.makedirs(save_folder_name, exist_ok=True)\n",
    "    \n",
    "    program = Program()\n",
    "    program.load(bug_program_path)\n",
    "    bug_env = BounceEnv(program, SELF_MINUS_HALF_OPPO, num_balls_to_win=2, info_bug=BALL_IN_GOAL)\n",
    "\n",
    "    program = Program()\n",
    "    program.set_correct()\n",
    "    env = BounceEnv(program, SELF_MINUS_HALF_OPPO, num_balls_to_win=2)\n",
    "    \n",
    "    action_input = True\n",
    "    delta = True\n",
    "    cuda = True\n",
    "    batch_size = 128\n",
    "\n",
    "    lstm = HoareLSTM(15, batch_size=batch_size, delta=delta,\n",
    "                     action_input=action_input)\n",
    "    if cuda:\n",
    "        lstm = lstm.to('cuda')\n",
    "    optimizer = optim.Adam(lstm.parameters(), lr=1e-3)\n",
    "\n",
    "    bug_lstm = HoareLSTM(15, batch_size=batch_size, delta=delta, action_input=action_input)\n",
    "    if cuda:\n",
    "        bug_lstm = bug_lstm.to('cuda')\n",
    "    bug_optimizer = optim.Adam(bug_lstm.parameters(), lr=1e-3)\n",
    "\n",
    "    test_accu, bug_precision, bug_recall, info = train_naive_hoare_lstm_model_inner(agent, lstm, bug_lstm, optimizer, bug_optimizer, env, bug_env, \n",
    "                                                                                 epochs=epochs,\n",
    "                                                                                 cuda=cuda, \n",
    "                                                                                 action_input=action_input, \n",
    "                                                                                 eps=0.05,\n",
    "                                                                                 correct_training_epoch=5, \n",
    "                                                                                 broken_training_epochs=5,\n",
    "                                                                                 hoare_threshold=1.5,\n",
    "                                                                                 max_t=max_t)\n",
    "    \n",
    "    save_torch_model(lstm, pjoin(save_folder_name, model_name + \"_lstm.pkl\"))\n",
    "    save_torch_model(bug_lstm, pjoin(save_folder_name, model_name + \"_bug_lstm.pkl\"))\n",
    "    agent.save(pjoin(save_folder_name, model_name + \"_refined_agent.pkl\"))"
   ]
  },
  {
   "cell_type": "markdown",
   "metadata": {},
   "source": [
    "We load in 10 reference **bug programs** and train a contrastive HoareLSTM classifier on them."
   ]
  },
  {
   "cell_type": "code",
   "execution_count": null,
   "metadata": {},
   "outputs": [],
   "source": [
    "for bug_program_name in os.listdir(\"./bounce/programs/\"):\n",
    "    train_hoarelstm_classifiers(agent, './bounce/programs/'+bug_program_name, \n",
    "                            bug_program_name.rstrip(\".json\"), './bounce_models/goal_agent_contrast_hoarelstm/',\n",
    "                            max_t=100, epochs=150)"
   ]
  },
  {
   "cell_type": "markdown",
   "metadata": {},
   "source": [
    "We build a grader using simple decision rules -- each of the 10 classifiers can vote, both in terms of **state prediction distance** AND **reward distance**. In the end, we tally the vote and decide who wins."
   ]
  },
  {
   "cell_type": "code",
   "execution_count": 5,
   "metadata": {},
   "outputs": [],
   "source": [
    "def simple_hand_made_classifier(x, tie_breaker=True, vote_against_correct=3):\n",
    "    \n",
    "    # if any 1 condition is violated, then it's wrong\n",
    "    # The logic here is:\n",
    "    # 1. if dist_correct and dist_broken are similar (within 10 diff), call it broken\n",
    "    # 2. otherwise, go with the closer one (smaller one)\n",
    "    # 3. if reward_to_correct and reward_to_broken are similar (within 5 diff), call it correct (WHY???)\n",
    "    # 4. otherwise, go with the closer one (smaller one)\n",
    "    \n",
    "    # we make it a voting system\n",
    "    # each criteria has one vote, and let's see who wins\n",
    "    \n",
    "    decision = [0, 0]\n",
    "    \n",
    "    for i in range(0, x.shape[0], 5):\n",
    "        if np.abs(x[i+1] - x[i+0]) <= 10:\n",
    "            vote = 1  # call it broken (this is because for contrastive hoareLSTM, when it's close to neither, it's a new form of wrong)\n",
    "            decision[vote] += 1\n",
    "        elif np.abs(x[i+1] - x[i+0]) > 10:\n",
    "            vote = np.argmin([x[i+0], x[i+1]])\n",
    "            decision[int(vote)] += 1\n",
    "\n",
    "        if np.abs(x[i+3] - x[i+2]) <= 1:\n",
    "            pass  # doesn't mean anything, no decision\n",
    "        else:\n",
    "            vote = np.argmin([x[i+2], x[i+3]])\n",
    "            decision[int(vote)] += 1\n",
    "    \n",
    "    # tie-breaker\n",
    "    if decision[0] == decision[1]:\n",
    "        decision[1] += 1\n",
    "        \n",
    "    # since it's comparing against 10 MDPs, it shouldn't be majority voting\n",
    "    if decision[0] - decision[1] > vote_against_correct:\n",
    "        decision = [1, 0]\n",
    "    else:\n",
    "        decision = [0, 1]\n",
    "        \n",
    "    return decision\n",
    "\n",
    "class HandClassifierModel(object):\n",
    "    def __init__(self, tie_breaker=True):\n",
    "        self.tie_breaker = tie_breaker\n",
    "    \n",
    "    def predict(self, X):\n",
    "        new_y_hat = []\n",
    "        for i in range(X.shape[0]):\n",
    "            new_y_hat.append(np.argmax(simple_hand_made_classifier(X[i], tie_breaker=self.tie_breaker)))\n",
    "            \n",
    "        return new_y_hat"
   ]
  },
  {
   "cell_type": "code",
   "execution_count": null,
   "metadata": {},
   "outputs": [],
   "source": [
    "def featurize(save_folder_name, bug_program_path, test_env, K=10, max_t=200, total_reward_feat=True):\n",
    "    \n",
    "    X = []\n",
    "    for bug_program_name in os.listdir(\"./bounce/programs/\"):\n",
    "        model_name = bug_program_name.rstrip(\".json\")\n",
    "        \n",
    "        action_input = True\n",
    "        delta = True\n",
    "        cuda = True\n",
    "        batch_size = 128\n",
    "\n",
    "        lstm = HoareLSTM(15, batch_size=batch_size, delta=delta,\n",
    "                         action_input=action_input)\n",
    "        if cuda:\n",
    "            lstm = lstm.to('cuda')\n",
    "\n",
    "        bug_lstm = HoareLSTM(15, batch_size=batch_size, delta=delta, action_input=action_input)\n",
    "        if cuda:\n",
    "            bug_lstm = bug_lstm.to('cuda')\n",
    "            \n",
    "        agent = Agent(15, 3, 1234, fc1_units=256, fc2_units=256)\n",
    "\n",
    "        load_torch_model(lstm, pjoin(save_folder_name, model_name + \"_lstm.pkl\"))\n",
    "        load_torch_model(bug_lstm, pjoin(save_folder_name, model_name + \"_bug_lstm.pkl\"))\n",
    "        agent.load(pjoin(save_folder_name, model_name + \"_refined_agent.pkl\"))\n",
    "        \n",
    "        _, _, traj_orig_rewards, correct_state_dists, broken_state_dists,  \\\n",
    "        correct_reward_dists, broken_reward_dists = contrastive_hoarelstm_featurize(agent, test_env, lstm, bug_lstm, \n",
    "                                                                            n_episodes=K, \n",
    "                                                                            max_t=max_t,\n",
    "                                                                           cuda=cuda, action_input=action_input)\n",
    "        \n",
    "        # (K, 5)\n",
    "        if total_reward_feat:\n",
    "            X_feats = np.vstack([correct_state_dists, broken_state_dists, \\\n",
    "                               correct_reward_dists, broken_reward_dists, traj_orig_rewards]).T\n",
    "        else:\n",
    "            X_feats = np.vstack([correct_state_dists, broken_state_dists, \\\n",
    "                               correct_reward_dists, broken_reward_dists]).T\n",
    "        X.append(X_feats)\n",
    "        \n",
    "    X = np.hstack(X)\n",
    "    \n",
    "    return X"
   ]
  },
  {
   "cell_type": "code",
   "execution_count": 6,
   "metadata": {},
   "outputs": [],
   "source": [
    "from sklearn.metrics import accuracy_score, classification_report\n",
    "\n",
    "def grade(model, correct_json_path, broken_json_path, K=1, grade_all=False, grade_first=100,\n",
    "         fix_json=True):\n",
    "    # collect stats\n",
    "    correct_jsons = json.load(open(correct_json_path))\n",
    "    broken_jsons = json.load(open(broken_json_path))\n",
    "    if not grade_all:\n",
    "        correct_jsons = correct_jsons[:grade_first]\n",
    "        broken_jsons = broken_jsons[:grade_first]\n",
    "    \n",
    "    X, y = [], []\n",
    "    for correct_json in tqdm(correct_jsons):\n",
    "        program = Program()\n",
    "        program.loads(fix_single_quote_in_json(correct_json, fix_json=fix_json))\n",
    "        env = BounceEnv(program, SELF_MINUS_HALF_OPPO, num_balls_to_win=2, info_bug=BALL_IN_GOAL)\n",
    "        \n",
    "        correct_X = featurize('./bounce_models/goal_agent_contrast_hoarelstm/', './bounce/programs/',\n",
    "                             env, K=1)\n",
    "        X.append(correct_X)\n",
    "        y.append(0)\n",
    "        \n",
    "    \n",
    "    for broken_json in tqdm(broken_jsons):\n",
    "        program = Program()\n",
    "        program.loads(fix_single_quote_in_json(broken_json, fix_json=fix_json))\n",
    "        env = BounceEnv(program, SELF_MINUS_HALF_OPPO, num_balls_to_win=2, info_bug=BALL_IN_GOAL)\n",
    "        \n",
    "        correct_X = featurize('./bounce_models/goal_agent_contrast_hoarelstm/', './bounce/programs/',\n",
    "                             env, K=1)\n",
    "        X.append(correct_X)\n",
    "        y.append(1)\n",
    "        \n",
    "    X = np.vstack(X)\n",
    "    y_hat = model.predict(X)\n",
    "    y = np.array(y)\n",
    "    \n",
    "    print(classification_report(y, y_hat))\n",
    "    \n",
    "    return X, y, y_hat"
   ]
  },
  {
   "cell_type": "markdown",
   "metadata": {},
   "source": [
    "This code is not runnable -- but we load in the test data and grade them."
   ]
  },
  {
   "cell_type": "code",
   "execution_count": null,
   "metadata": {},
   "outputs": [],
   "source": [
    "path = \"./bounce/programs/\"\n",
    "X, y, y_hat = grade(HandClassifierModel(), path+\"body_sampled_correct_250.json\", \n",
    "                    path+\"body_sampled_broken_250.json\", grade_all=True, fix_json=False)"
   ]
  }
 ],
 "metadata": {
  "kernelspec": {
   "display_name": "Python 3",
   "language": "python",
   "name": "python3"
  },
  "language_info": {
   "codemirror_mode": {
    "name": "ipython",
    "version": 3
   },
   "file_extension": ".py",
   "mimetype": "text/x-python",
   "name": "python",
   "nbconvert_exporter": "python",
   "pygments_lexer": "ipython3",
   "version": "3.8.5"
  }
 },
 "nbformat": 4,
 "nbformat_minor": 4
}
